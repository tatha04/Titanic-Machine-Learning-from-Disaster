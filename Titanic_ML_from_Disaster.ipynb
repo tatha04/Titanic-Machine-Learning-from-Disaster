{
  "nbformat": 4,
  "nbformat_minor": 0,
  "metadata": {
    "colab": {
      "name": "Titanic-ML_from_Disaster.ipynb",
      "provenance": [],
      "mount_file_id": "1gzXoXxwmIXtV4e-hsDRpUDgt4k8WRi5_",
      "authorship_tag": "ABX9TyMONc3o9PbTvebVes4rlDdN",
      "include_colab_link": true
    },
    "kernelspec": {
      "name": "python3",
      "display_name": "Python 3"
    }
  },
  "cells": [
    {
      "cell_type": "markdown",
      "metadata": {
        "id": "view-in-github",
        "colab_type": "text"
      },
      "source": [
        "<a href=\"https://colab.research.google.com/github/tatha04/Titanic-Machine-Learning-from-Disaster/blob/main/Titanic_ML_from_Disaster.ipynb\" target=\"_parent\"><img src=\"https://colab.research.google.com/assets/colab-badge.svg\" alt=\"Open In Colab\"/></a>"
      ]
    },
    {
      "cell_type": "markdown",
      "metadata": {
        "id": "t-P4imYN6qGn"
      },
      "source": [
        "# Titanic : Machine Learning from Disaster\n",
        "This is a beginners attempt to work with the Titanic: ML from disaster dataset available from [Kaggle](https://www.kaggle.com/c/titanic/data).\n",
        "The data has been already separated into two groups - the training set and the test set.\n",
        "\n",
        "###Contents:\n",
        "* Import dataset from Kaggle/local storage.\n",
        "* Import necessary libraries.\n",
        "* Explore and visualize the dataset. Identify numerical and categorical features.\n",
        "* Fnd outif any of the features has missing data. If yes, fill up missing data.\n",
        "* Feature Engineering : Drop unneccesary columns. Adjust other columns into usable features.\n",
        "* Model fitting : Choose best fit model.\n",
        "\n",
        "## Import necessary Libraries\n"
      ]
    },
    {
      "cell_type": "code",
      "metadata": {
        "id": "_uxkFegQ6z6i"
      },
      "source": [
        "import numpy as np\n",
        "import pandas as pd\n",
        "import matplotlib.pyplot as plt\n",
        "import seaborn as sns\n",
        "from numpy import random"
      ],
      "execution_count": 2,
      "outputs": []
    },
    {
      "cell_type": "markdown",
      "metadata": {
        "id": "vCcEq-l4e5pY"
      },
      "source": [
        "## Import Dataset\n",
        "I have downloaded the dataset into google drive and have mounted the drive into google colab workspace. You need to change the path with the correct path of the data files."
      ]
    },
    {
      "cell_type": "code",
      "metadata": {
        "id": "rOVtsyzyfbGK"
      },
      "source": [
        "df_Train = pd.read_csv(\"/content/drive/My Drive/Data Science/Data_Sets/Titanic/train.csv\")\n",
        "df_Test = pd.read_csv(\"/content/drive/My Drive/Data Science/Data_Sets/Titanic/test.csv\")"
      ],
      "execution_count": 3,
      "outputs": []
    },
    {
      "cell_type": "markdown",
      "metadata": {
        "id": "jYwHva44f-RD"
      },
      "source": [
        "## Explore the Dataset"
      ]
    },
    {
      "cell_type": "code",
      "metadata": {
        "id": "VkwDTgJLfn7g",
        "outputId": "ba169d97-fe3c-4691-c545-35205a3f980c",
        "colab": {
          "base_uri": "https://localhost:8080/",
          "height": 202
        }
      },
      "source": [
        "df_Train.head()"
      ],
      "execution_count": 4,
      "outputs": [
        {
          "output_type": "execute_result",
          "data": {
            "text/html": [
              "<div>\n",
              "<style scoped>\n",
              "    .dataframe tbody tr th:only-of-type {\n",
              "        vertical-align: middle;\n",
              "    }\n",
              "\n",
              "    .dataframe tbody tr th {\n",
              "        vertical-align: top;\n",
              "    }\n",
              "\n",
              "    .dataframe thead th {\n",
              "        text-align: right;\n",
              "    }\n",
              "</style>\n",
              "<table border=\"1\" class=\"dataframe\">\n",
              "  <thead>\n",
              "    <tr style=\"text-align: right;\">\n",
              "      <th></th>\n",
              "      <th>PassengerId</th>\n",
              "      <th>Survived</th>\n",
              "      <th>Pclass</th>\n",
              "      <th>Name</th>\n",
              "      <th>Sex</th>\n",
              "      <th>Age</th>\n",
              "      <th>SibSp</th>\n",
              "      <th>Parch</th>\n",
              "      <th>Ticket</th>\n",
              "      <th>Fare</th>\n",
              "      <th>Cabin</th>\n",
              "      <th>Embarked</th>\n",
              "    </tr>\n",
              "  </thead>\n",
              "  <tbody>\n",
              "    <tr>\n",
              "      <th>0</th>\n",
              "      <td>1</td>\n",
              "      <td>0</td>\n",
              "      <td>3</td>\n",
              "      <td>Braund, Mr. Owen Harris</td>\n",
              "      <td>male</td>\n",
              "      <td>22.0</td>\n",
              "      <td>1</td>\n",
              "      <td>0</td>\n",
              "      <td>A/5 21171</td>\n",
              "      <td>7.2500</td>\n",
              "      <td>NaN</td>\n",
              "      <td>S</td>\n",
              "    </tr>\n",
              "    <tr>\n",
              "      <th>1</th>\n",
              "      <td>2</td>\n",
              "      <td>1</td>\n",
              "      <td>1</td>\n",
              "      <td>Cumings, Mrs. John Bradley (Florence Briggs Th...</td>\n",
              "      <td>female</td>\n",
              "      <td>38.0</td>\n",
              "      <td>1</td>\n",
              "      <td>0</td>\n",
              "      <td>PC 17599</td>\n",
              "      <td>71.2833</td>\n",
              "      <td>C85</td>\n",
              "      <td>C</td>\n",
              "    </tr>\n",
              "    <tr>\n",
              "      <th>2</th>\n",
              "      <td>3</td>\n",
              "      <td>1</td>\n",
              "      <td>3</td>\n",
              "      <td>Heikkinen, Miss. Laina</td>\n",
              "      <td>female</td>\n",
              "      <td>26.0</td>\n",
              "      <td>0</td>\n",
              "      <td>0</td>\n",
              "      <td>STON/O2. 3101282</td>\n",
              "      <td>7.9250</td>\n",
              "      <td>NaN</td>\n",
              "      <td>S</td>\n",
              "    </tr>\n",
              "    <tr>\n",
              "      <th>3</th>\n",
              "      <td>4</td>\n",
              "      <td>1</td>\n",
              "      <td>1</td>\n",
              "      <td>Futrelle, Mrs. Jacques Heath (Lily May Peel)</td>\n",
              "      <td>female</td>\n",
              "      <td>35.0</td>\n",
              "      <td>1</td>\n",
              "      <td>0</td>\n",
              "      <td>113803</td>\n",
              "      <td>53.1000</td>\n",
              "      <td>C123</td>\n",
              "      <td>S</td>\n",
              "    </tr>\n",
              "    <tr>\n",
              "      <th>4</th>\n",
              "      <td>5</td>\n",
              "      <td>0</td>\n",
              "      <td>3</td>\n",
              "      <td>Allen, Mr. William Henry</td>\n",
              "      <td>male</td>\n",
              "      <td>35.0</td>\n",
              "      <td>0</td>\n",
              "      <td>0</td>\n",
              "      <td>373450</td>\n",
              "      <td>8.0500</td>\n",
              "      <td>NaN</td>\n",
              "      <td>S</td>\n",
              "    </tr>\n",
              "  </tbody>\n",
              "</table>\n",
              "</div>"
            ],
            "text/plain": [
              "   PassengerId  Survived  Pclass  ...     Fare Cabin  Embarked\n",
              "0            1         0       3  ...   7.2500   NaN         S\n",
              "1            2         1       1  ...  71.2833   C85         C\n",
              "2            3         1       3  ...   7.9250   NaN         S\n",
              "3            4         1       1  ...  53.1000  C123         S\n",
              "4            5         0       3  ...   8.0500   NaN         S\n",
              "\n",
              "[5 rows x 12 columns]"
            ]
          },
          "metadata": {
            "tags": []
          },
          "execution_count": 4
        }
      ]
    },
    {
      "cell_type": "code",
      "metadata": {
        "id": "2uIrnomBfx6k",
        "outputId": "fef71e07-e2c9-41ea-fbbf-51aa19f3b93b",
        "colab": {
          "base_uri": "https://localhost:8080/",
          "height": 69
        }
      },
      "source": [
        "print(\"Shape\")\n",
        "print(\"Training data : \", df_Train.shape)\n",
        "print(\"Test data     : \", df_Test.shape)"
      ],
      "execution_count": 5,
      "outputs": [
        {
          "output_type": "stream",
          "text": [
            "Shape\n",
            "Training data :  (891, 12)\n",
            "Test data     :  (418, 11)\n"
          ],
          "name": "stdout"
        }
      ]
    },
    {
      "cell_type": "markdown",
      "metadata": {
        "id": "bNUW86BsgDT3"
      },
      "source": [
        "Thus the Training and Test datasets contains records of 891 and 418 passengers, respectively. In the Training dateset, there is column 'Survived' that specifies whether the passenger did or did not survive. "
      ]
    },
    {
      "cell_type": "markdown",
      "metadata": {
        "id": "GsI0OkH-lsrc"
      },
      "source": [
        "## Data Analysis and Visualization"
      ]
    },
    {
      "cell_type": "code",
      "metadata": {
        "id": "Dzta6CXElzZq",
        "outputId": "e8bdeda9-88ec-4872-b6c8-566261b55ec1",
        "colab": {
          "base_uri": "https://localhost:8080/",
          "height": 386
        }
      },
      "source": [
        "df_Train.describe(include='all')"
      ],
      "execution_count": 6,
      "outputs": [
        {
          "output_type": "execute_result",
          "data": {
            "text/html": [
              "<div>\n",
              "<style scoped>\n",
              "    .dataframe tbody tr th:only-of-type {\n",
              "        vertical-align: middle;\n",
              "    }\n",
              "\n",
              "    .dataframe tbody tr th {\n",
              "        vertical-align: top;\n",
              "    }\n",
              "\n",
              "    .dataframe thead th {\n",
              "        text-align: right;\n",
              "    }\n",
              "</style>\n",
              "<table border=\"1\" class=\"dataframe\">\n",
              "  <thead>\n",
              "    <tr style=\"text-align: right;\">\n",
              "      <th></th>\n",
              "      <th>PassengerId</th>\n",
              "      <th>Survived</th>\n",
              "      <th>Pclass</th>\n",
              "      <th>Name</th>\n",
              "      <th>Sex</th>\n",
              "      <th>Age</th>\n",
              "      <th>SibSp</th>\n",
              "      <th>Parch</th>\n",
              "      <th>Ticket</th>\n",
              "      <th>Fare</th>\n",
              "      <th>Cabin</th>\n",
              "      <th>Embarked</th>\n",
              "    </tr>\n",
              "  </thead>\n",
              "  <tbody>\n",
              "    <tr>\n",
              "      <th>count</th>\n",
              "      <td>891.000000</td>\n",
              "      <td>891.000000</td>\n",
              "      <td>891.000000</td>\n",
              "      <td>891</td>\n",
              "      <td>891</td>\n",
              "      <td>714.000000</td>\n",
              "      <td>891.000000</td>\n",
              "      <td>891.000000</td>\n",
              "      <td>891</td>\n",
              "      <td>891.000000</td>\n",
              "      <td>204</td>\n",
              "      <td>889</td>\n",
              "    </tr>\n",
              "    <tr>\n",
              "      <th>unique</th>\n",
              "      <td>NaN</td>\n",
              "      <td>NaN</td>\n",
              "      <td>NaN</td>\n",
              "      <td>891</td>\n",
              "      <td>2</td>\n",
              "      <td>NaN</td>\n",
              "      <td>NaN</td>\n",
              "      <td>NaN</td>\n",
              "      <td>681</td>\n",
              "      <td>NaN</td>\n",
              "      <td>147</td>\n",
              "      <td>3</td>\n",
              "    </tr>\n",
              "    <tr>\n",
              "      <th>top</th>\n",
              "      <td>NaN</td>\n",
              "      <td>NaN</td>\n",
              "      <td>NaN</td>\n",
              "      <td>Klasen, Mr. Klas Albin</td>\n",
              "      <td>male</td>\n",
              "      <td>NaN</td>\n",
              "      <td>NaN</td>\n",
              "      <td>NaN</td>\n",
              "      <td>347082</td>\n",
              "      <td>NaN</td>\n",
              "      <td>G6</td>\n",
              "      <td>S</td>\n",
              "    </tr>\n",
              "    <tr>\n",
              "      <th>freq</th>\n",
              "      <td>NaN</td>\n",
              "      <td>NaN</td>\n",
              "      <td>NaN</td>\n",
              "      <td>1</td>\n",
              "      <td>577</td>\n",
              "      <td>NaN</td>\n",
              "      <td>NaN</td>\n",
              "      <td>NaN</td>\n",
              "      <td>7</td>\n",
              "      <td>NaN</td>\n",
              "      <td>4</td>\n",
              "      <td>644</td>\n",
              "    </tr>\n",
              "    <tr>\n",
              "      <th>mean</th>\n",
              "      <td>446.000000</td>\n",
              "      <td>0.383838</td>\n",
              "      <td>2.308642</td>\n",
              "      <td>NaN</td>\n",
              "      <td>NaN</td>\n",
              "      <td>29.699118</td>\n",
              "      <td>0.523008</td>\n",
              "      <td>0.381594</td>\n",
              "      <td>NaN</td>\n",
              "      <td>32.204208</td>\n",
              "      <td>NaN</td>\n",
              "      <td>NaN</td>\n",
              "    </tr>\n",
              "    <tr>\n",
              "      <th>std</th>\n",
              "      <td>257.353842</td>\n",
              "      <td>0.486592</td>\n",
              "      <td>0.836071</td>\n",
              "      <td>NaN</td>\n",
              "      <td>NaN</td>\n",
              "      <td>14.526497</td>\n",
              "      <td>1.102743</td>\n",
              "      <td>0.806057</td>\n",
              "      <td>NaN</td>\n",
              "      <td>49.693429</td>\n",
              "      <td>NaN</td>\n",
              "      <td>NaN</td>\n",
              "    </tr>\n",
              "    <tr>\n",
              "      <th>min</th>\n",
              "      <td>1.000000</td>\n",
              "      <td>0.000000</td>\n",
              "      <td>1.000000</td>\n",
              "      <td>NaN</td>\n",
              "      <td>NaN</td>\n",
              "      <td>0.420000</td>\n",
              "      <td>0.000000</td>\n",
              "      <td>0.000000</td>\n",
              "      <td>NaN</td>\n",
              "      <td>0.000000</td>\n",
              "      <td>NaN</td>\n",
              "      <td>NaN</td>\n",
              "    </tr>\n",
              "    <tr>\n",
              "      <th>25%</th>\n",
              "      <td>223.500000</td>\n",
              "      <td>0.000000</td>\n",
              "      <td>2.000000</td>\n",
              "      <td>NaN</td>\n",
              "      <td>NaN</td>\n",
              "      <td>20.125000</td>\n",
              "      <td>0.000000</td>\n",
              "      <td>0.000000</td>\n",
              "      <td>NaN</td>\n",
              "      <td>7.910400</td>\n",
              "      <td>NaN</td>\n",
              "      <td>NaN</td>\n",
              "    </tr>\n",
              "    <tr>\n",
              "      <th>50%</th>\n",
              "      <td>446.000000</td>\n",
              "      <td>0.000000</td>\n",
              "      <td>3.000000</td>\n",
              "      <td>NaN</td>\n",
              "      <td>NaN</td>\n",
              "      <td>28.000000</td>\n",
              "      <td>0.000000</td>\n",
              "      <td>0.000000</td>\n",
              "      <td>NaN</td>\n",
              "      <td>14.454200</td>\n",
              "      <td>NaN</td>\n",
              "      <td>NaN</td>\n",
              "    </tr>\n",
              "    <tr>\n",
              "      <th>75%</th>\n",
              "      <td>668.500000</td>\n",
              "      <td>1.000000</td>\n",
              "      <td>3.000000</td>\n",
              "      <td>NaN</td>\n",
              "      <td>NaN</td>\n",
              "      <td>38.000000</td>\n",
              "      <td>1.000000</td>\n",
              "      <td>0.000000</td>\n",
              "      <td>NaN</td>\n",
              "      <td>31.000000</td>\n",
              "      <td>NaN</td>\n",
              "      <td>NaN</td>\n",
              "    </tr>\n",
              "    <tr>\n",
              "      <th>max</th>\n",
              "      <td>891.000000</td>\n",
              "      <td>1.000000</td>\n",
              "      <td>3.000000</td>\n",
              "      <td>NaN</td>\n",
              "      <td>NaN</td>\n",
              "      <td>80.000000</td>\n",
              "      <td>8.000000</td>\n",
              "      <td>6.000000</td>\n",
              "      <td>NaN</td>\n",
              "      <td>512.329200</td>\n",
              "      <td>NaN</td>\n",
              "      <td>NaN</td>\n",
              "    </tr>\n",
              "  </tbody>\n",
              "</table>\n",
              "</div>"
            ],
            "text/plain": [
              "        PassengerId    Survived      Pclass  ...        Fare Cabin  Embarked\n",
              "count    891.000000  891.000000  891.000000  ...  891.000000   204       889\n",
              "unique          NaN         NaN         NaN  ...         NaN   147         3\n",
              "top             NaN         NaN         NaN  ...         NaN    G6         S\n",
              "freq            NaN         NaN         NaN  ...         NaN     4       644\n",
              "mean     446.000000    0.383838    2.308642  ...   32.204208   NaN       NaN\n",
              "std      257.353842    0.486592    0.836071  ...   49.693429   NaN       NaN\n",
              "min        1.000000    0.000000    1.000000  ...    0.000000   NaN       NaN\n",
              "25%      223.500000    0.000000    2.000000  ...    7.910400   NaN       NaN\n",
              "50%      446.000000    0.000000    3.000000  ...   14.454200   NaN       NaN\n",
              "75%      668.500000    1.000000    3.000000  ...   31.000000   NaN       NaN\n",
              "max      891.000000    1.000000    3.000000  ...  512.329200   NaN       NaN\n",
              "\n",
              "[11 rows x 12 columns]"
            ]
          },
          "metadata": {
            "tags": []
          },
          "execution_count": 6
        }
      ]
    },
    {
      "cell_type": "code",
      "metadata": {
        "id": "YEu91XLWl9Ye",
        "outputId": "8fc4427f-dff2-48f7-b2c6-f16489df815f",
        "colab": {
          "base_uri": "https://localhost:8080/",
          "height": 403
        }
      },
      "source": [
        "df_Test.describe(include='all')"
      ],
      "execution_count": 7,
      "outputs": [
        {
          "output_type": "execute_result",
          "data": {
            "text/html": [
              "<div>\n",
              "<style scoped>\n",
              "    .dataframe tbody tr th:only-of-type {\n",
              "        vertical-align: middle;\n",
              "    }\n",
              "\n",
              "    .dataframe tbody tr th {\n",
              "        vertical-align: top;\n",
              "    }\n",
              "\n",
              "    .dataframe thead th {\n",
              "        text-align: right;\n",
              "    }\n",
              "</style>\n",
              "<table border=\"1\" class=\"dataframe\">\n",
              "  <thead>\n",
              "    <tr style=\"text-align: right;\">\n",
              "      <th></th>\n",
              "      <th>PassengerId</th>\n",
              "      <th>Pclass</th>\n",
              "      <th>Name</th>\n",
              "      <th>Sex</th>\n",
              "      <th>Age</th>\n",
              "      <th>SibSp</th>\n",
              "      <th>Parch</th>\n",
              "      <th>Ticket</th>\n",
              "      <th>Fare</th>\n",
              "      <th>Cabin</th>\n",
              "      <th>Embarked</th>\n",
              "    </tr>\n",
              "  </thead>\n",
              "  <tbody>\n",
              "    <tr>\n",
              "      <th>count</th>\n",
              "      <td>418.000000</td>\n",
              "      <td>418.000000</td>\n",
              "      <td>418</td>\n",
              "      <td>418</td>\n",
              "      <td>332.000000</td>\n",
              "      <td>418.000000</td>\n",
              "      <td>418.000000</td>\n",
              "      <td>418</td>\n",
              "      <td>417.000000</td>\n",
              "      <td>91</td>\n",
              "      <td>418</td>\n",
              "    </tr>\n",
              "    <tr>\n",
              "      <th>unique</th>\n",
              "      <td>NaN</td>\n",
              "      <td>NaN</td>\n",
              "      <td>418</td>\n",
              "      <td>2</td>\n",
              "      <td>NaN</td>\n",
              "      <td>NaN</td>\n",
              "      <td>NaN</td>\n",
              "      <td>363</td>\n",
              "      <td>NaN</td>\n",
              "      <td>76</td>\n",
              "      <td>3</td>\n",
              "    </tr>\n",
              "    <tr>\n",
              "      <th>top</th>\n",
              "      <td>NaN</td>\n",
              "      <td>NaN</td>\n",
              "      <td>Kimball, Mrs. Edwin Nelson Jr (Gertrude Parsons)</td>\n",
              "      <td>male</td>\n",
              "      <td>NaN</td>\n",
              "      <td>NaN</td>\n",
              "      <td>NaN</td>\n",
              "      <td>PC 17608</td>\n",
              "      <td>NaN</td>\n",
              "      <td>B57 B59 B63 B66</td>\n",
              "      <td>S</td>\n",
              "    </tr>\n",
              "    <tr>\n",
              "      <th>freq</th>\n",
              "      <td>NaN</td>\n",
              "      <td>NaN</td>\n",
              "      <td>1</td>\n",
              "      <td>266</td>\n",
              "      <td>NaN</td>\n",
              "      <td>NaN</td>\n",
              "      <td>NaN</td>\n",
              "      <td>5</td>\n",
              "      <td>NaN</td>\n",
              "      <td>3</td>\n",
              "      <td>270</td>\n",
              "    </tr>\n",
              "    <tr>\n",
              "      <th>mean</th>\n",
              "      <td>1100.500000</td>\n",
              "      <td>2.265550</td>\n",
              "      <td>NaN</td>\n",
              "      <td>NaN</td>\n",
              "      <td>30.272590</td>\n",
              "      <td>0.447368</td>\n",
              "      <td>0.392344</td>\n",
              "      <td>NaN</td>\n",
              "      <td>35.627188</td>\n",
              "      <td>NaN</td>\n",
              "      <td>NaN</td>\n",
              "    </tr>\n",
              "    <tr>\n",
              "      <th>std</th>\n",
              "      <td>120.810458</td>\n",
              "      <td>0.841838</td>\n",
              "      <td>NaN</td>\n",
              "      <td>NaN</td>\n",
              "      <td>14.181209</td>\n",
              "      <td>0.896760</td>\n",
              "      <td>0.981429</td>\n",
              "      <td>NaN</td>\n",
              "      <td>55.907576</td>\n",
              "      <td>NaN</td>\n",
              "      <td>NaN</td>\n",
              "    </tr>\n",
              "    <tr>\n",
              "      <th>min</th>\n",
              "      <td>892.000000</td>\n",
              "      <td>1.000000</td>\n",
              "      <td>NaN</td>\n",
              "      <td>NaN</td>\n",
              "      <td>0.170000</td>\n",
              "      <td>0.000000</td>\n",
              "      <td>0.000000</td>\n",
              "      <td>NaN</td>\n",
              "      <td>0.000000</td>\n",
              "      <td>NaN</td>\n",
              "      <td>NaN</td>\n",
              "    </tr>\n",
              "    <tr>\n",
              "      <th>25%</th>\n",
              "      <td>996.250000</td>\n",
              "      <td>1.000000</td>\n",
              "      <td>NaN</td>\n",
              "      <td>NaN</td>\n",
              "      <td>21.000000</td>\n",
              "      <td>0.000000</td>\n",
              "      <td>0.000000</td>\n",
              "      <td>NaN</td>\n",
              "      <td>7.895800</td>\n",
              "      <td>NaN</td>\n",
              "      <td>NaN</td>\n",
              "    </tr>\n",
              "    <tr>\n",
              "      <th>50%</th>\n",
              "      <td>1100.500000</td>\n",
              "      <td>3.000000</td>\n",
              "      <td>NaN</td>\n",
              "      <td>NaN</td>\n",
              "      <td>27.000000</td>\n",
              "      <td>0.000000</td>\n",
              "      <td>0.000000</td>\n",
              "      <td>NaN</td>\n",
              "      <td>14.454200</td>\n",
              "      <td>NaN</td>\n",
              "      <td>NaN</td>\n",
              "    </tr>\n",
              "    <tr>\n",
              "      <th>75%</th>\n",
              "      <td>1204.750000</td>\n",
              "      <td>3.000000</td>\n",
              "      <td>NaN</td>\n",
              "      <td>NaN</td>\n",
              "      <td>39.000000</td>\n",
              "      <td>1.000000</td>\n",
              "      <td>0.000000</td>\n",
              "      <td>NaN</td>\n",
              "      <td>31.500000</td>\n",
              "      <td>NaN</td>\n",
              "      <td>NaN</td>\n",
              "    </tr>\n",
              "    <tr>\n",
              "      <th>max</th>\n",
              "      <td>1309.000000</td>\n",
              "      <td>3.000000</td>\n",
              "      <td>NaN</td>\n",
              "      <td>NaN</td>\n",
              "      <td>76.000000</td>\n",
              "      <td>8.000000</td>\n",
              "      <td>9.000000</td>\n",
              "      <td>NaN</td>\n",
              "      <td>512.329200</td>\n",
              "      <td>NaN</td>\n",
              "      <td>NaN</td>\n",
              "    </tr>\n",
              "  </tbody>\n",
              "</table>\n",
              "</div>"
            ],
            "text/plain": [
              "        PassengerId      Pclass  ...            Cabin Embarked\n",
              "count    418.000000  418.000000  ...               91      418\n",
              "unique          NaN         NaN  ...               76        3\n",
              "top             NaN         NaN  ...  B57 B59 B63 B66        S\n",
              "freq            NaN         NaN  ...                3      270\n",
              "mean    1100.500000    2.265550  ...              NaN      NaN\n",
              "std      120.810458    0.841838  ...              NaN      NaN\n",
              "min      892.000000    1.000000  ...              NaN      NaN\n",
              "25%      996.250000    1.000000  ...              NaN      NaN\n",
              "50%     1100.500000    3.000000  ...              NaN      NaN\n",
              "75%     1204.750000    3.000000  ...              NaN      NaN\n",
              "max     1309.000000    3.000000  ...              NaN      NaN\n",
              "\n",
              "[11 rows x 11 columns]"
            ]
          },
          "metadata": {
            "tags": []
          },
          "execution_count": 7
        }
      ]
    },
    {
      "cell_type": "code",
      "metadata": {
        "id": "fw23TFl6mBk7",
        "outputId": "65c01c03-07ec-4e7a-e4b8-c7b441d7eeaf",
        "colab": {
          "base_uri": "https://localhost:8080/",
          "height": 433
        }
      },
      "source": [
        "print(df_Train.columns)\n",
        "print()\n",
        "print(df_Train.dtypes)\n",
        "print()\n",
        "\n",
        "s = (df_Train.dtypes == 'object')\n",
        "object_cols = list(s[s].index)\n",
        "print(\"Categorical variables:\")\n",
        "print(object_cols)\n",
        "\n",
        "s = (df_Train.dtypes == 'int')\n",
        "num_cols = list(s[s].index)\n",
        "print(\"Integer variables:\")\n",
        "print(num_cols)\n",
        "\n",
        "s = (df_Train.dtypes == 'float')\n",
        "num_cols = list(s[s].index)\n",
        "print(\"Real variables:\")\n",
        "print(num_cols)"
      ],
      "execution_count": 8,
      "outputs": [
        {
          "output_type": "stream",
          "text": [
            "Index(['PassengerId', 'Survived', 'Pclass', 'Name', 'Sex', 'Age', 'SibSp',\n",
            "       'Parch', 'Ticket', 'Fare', 'Cabin', 'Embarked'],\n",
            "      dtype='object')\n",
            "\n",
            "PassengerId      int64\n",
            "Survived         int64\n",
            "Pclass           int64\n",
            "Name            object\n",
            "Sex             object\n",
            "Age            float64\n",
            "SibSp            int64\n",
            "Parch            int64\n",
            "Ticket          object\n",
            "Fare           float64\n",
            "Cabin           object\n",
            "Embarked        object\n",
            "dtype: object\n",
            "\n",
            "Categorical variables:\n",
            "['Name', 'Sex', 'Ticket', 'Cabin', 'Embarked']\n",
            "Integer variables:\n",
            "['PassengerId', 'Survived', 'Pclass', 'SibSp', 'Parch']\n",
            "Real variables:\n",
            "['Age', 'Fare']\n"
          ],
          "name": "stdout"
        }
      ]
    },
    {
      "cell_type": "markdown",
      "metadata": {
        "id": "9dF2LDynmQiU"
      },
      "source": [
        "The datasets have the following columns : \n",
        "* Categorical:\n",
        "  * Name : Passenger name\n",
        "  * Sex : female or male\n",
        "  * Ticket : Ticket number, an alphnumeric value\n",
        "  * Cabin : Cabin number, an alphanumeric value\n",
        "  * Embarked : Where the passenger embarked on the ship ( S : Southampton, C : Cherbourg or Q : Queenstown)\n",
        "* Integer:\n",
        "  * PassengerId\n",
        "  * Survived : 0 (did not survive) or 1 (survived)\n",
        "  * Pclass: Passenger class ( 1, 2 or 3)\n",
        "  * SibSp : Number of siblings or spouse\n",
        "  * Parch : Number of parents or children\n",
        "* Floating:\n",
        "  * Age : Age of the passenger\n",
        "  * Fare : Ticket fare"
      ]
    },
    {
      "cell_type": "code",
      "metadata": {
        "id": "2Hw0VUiaqCBi",
        "outputId": "52fda452-5115-49d6-aea1-b1d411c71bda",
        "colab": {
          "base_uri": "https://localhost:8080/",
          "height": 733
        }
      },
      "source": [
        "plt.figure(figsize=(10,12))\n",
        "plt.title('Frequencies')\n",
        "\n",
        "plt.subplot(3,2,1)\n",
        "sns.countplot(x = df_Train['Sex'])\n",
        "\n",
        "plt.subplot(3,2,2)\n",
        "sns.countplot(x = df_Train['Pclass'])\n",
        "\n",
        "plt.subplot(3,2,3)\n",
        "sns.countplot(x = df_Train['SibSp'])\n",
        "\n",
        "plt.subplot(3,2,4)\n",
        "sns.countplot(x = df_Train['Parch'])\n",
        "\n",
        "plt.subplot(3,2,5)\n",
        "sns.countplot(x = df_Train['Embarked'])\n",
        "\n",
        "plt.subplot(3,2,6)\n",
        "sns.countplot(x = df_Train['Fare'])"
      ],
      "execution_count": 9,
      "outputs": [
        {
          "output_type": "execute_result",
          "data": {
            "text/plain": [
              "<matplotlib.axes._subplots.AxesSubplot at 0x7f4533976cc0>"
            ]
          },
          "metadata": {
            "tags": []
          },
          "execution_count": 9
        },
        {
          "output_type": "display_data",
          "data": {
            "image/png": "[encoded data removed]",
            "text/plain": [
              "<Figure size 720x864 with 6 Axes>"
            ]
          },
          "metadata": {
            "tags": [],
            "needs_background": "light"
          }
        }
      ]
    },
    {
      "cell_type": "code",
      "metadata": {
        "id": "lBHNzvZKr9vu",
        "outputId": "5ab67d89-e616-4ada-a71c-926a43a15b7d",
        "colab": {
          "base_uri": "https://localhost:8080/",
          "height": 1000
        }
      },
      "source": [
        "plt.figure(figsize=(10,12))\n",
        "plt.title('Survival Fractions')\n",
        "\n",
        "plt.subplot(3,2,1)\n",
        "sns.barplot(x = df_Train['Sex'],y = df_Train['Survived'])\n",
        "\n",
        "plt.subplot(3,2,2)\n",
        "sns.barplot(x = df_Train['Pclass'],y = df_Train['Survived'])\n",
        "\n",
        "plt.subplot(3,2,3)\n",
        "sns.barplot(x = df_Train['SibSp'],y = df_Train['Survived'])\n",
        "\n",
        "plt.subplot(3,2,4)\n",
        "sns.barplot(x = df_Train['Parch'],y = df_Train['Survived'])\n",
        "\n",
        "plt.subplot(3,2,5)\n",
        "sns.barplot(x = df_Train['Embarked'],y = df_Train['Survived'])\n",
        "\n",
        "print('Survival Fraction')\n",
        "\n",
        "for i in df_Train['Sex'].unique():\n",
        "    print('Sex = ', i, ': ', df_Train['Survived'][df_Train['Sex'] == i].value_counts(normalize=True)[1])\n",
        "print()\n",
        "\n",
        "for i in df_Train['Pclass'].sort_values().unique():\n",
        "  print('Pclass = ', i, ': ', df_Train['Survived'][df_Train['Pclass'] == i].value_counts(normalize=True)[1])\n",
        "print()\n",
        "\n",
        "for i in df_Train['SibSp'].sort_values().unique():\n",
        "  if (df_Train['Survived'][df_Train['SibSp']==i].sum() > 0):\n",
        "    print('SibSp = ', i, ': ', df_Train['Survived'][df_Train['SibSp'] == i].value_counts(normalize=True)[1])\n",
        "  else:\n",
        "    print('SibSp = ', i, ': ', 0)\n",
        "\n",
        "print()\n",
        "\n",
        "for i in df_Train['Parch'].sort_values().unique():\n",
        "  if (df_Train['Survived'][df_Train['Parch']==i].sum() > 0):\n",
        "    print('Parch = ', i, ': ', df_Train['Survived'][df_Train['Parch'] == i].value_counts(normalize=True)[1])\n",
        "  else:\n",
        "    print('Parch = ', i, ': ', 0)\n",
        "print()\n",
        "\n",
        "for i in df_Train['Embarked'].dropna().unique():\n",
        "  print('Embarked = ', i, ': ', df_Train['Survived'][df_Train['Embarked'] == i].value_counts(normalize=True)[1])\n",
        "print()"
      ],
      "execution_count": 10,
      "outputs": [
        {
          "output_type": "stream",
          "text": [
            "Survival Fraction\n",
            "Sex =  male :  0.18890814558058924\n",
            "Sex =  female :  0.7420382165605095\n",
            "\n",
            "Pclass =  1 :  0.6296296296296297\n",
            "Pclass =  2 :  0.47282608695652173\n",
            "Pclass =  3 :  0.24236252545824846\n",
            "\n",
            "SibSp =  0 :  0.34539473684210525\n",
            "SibSp =  1 :  0.5358851674641149\n",
            "SibSp =  2 :  0.4642857142857143\n",
            "SibSp =  3 :  0.25\n",
            "SibSp =  4 :  0.16666666666666666\n",
            "SibSp =  5 :  0\n",
            "SibSp =  8 :  0\n",
            "\n",
            "Parch =  0 :  0.34365781710914456\n",
            "Parch =  1 :  0.5508474576271186\n",
            "Parch =  2 :  0.5\n",
            "Parch =  3 :  0.6\n",
            "Parch =  4 :  0\n",
            "Parch =  5 :  0.2\n",
            "Parch =  6 :  0\n",
            "\n",
            "Embarked =  S :  0.33695652173913043\n",
            "Embarked =  C :  0.5535714285714286\n",
            "Embarked =  Q :  0.38961038961038963\n",
            "\n"
          ],
          "name": "stdout"
        },
        {
          "output_type": "display_data",
          "data": {
            "image/png": "[encoded data removed]",
            "text/plain": [
              "<Figure size 720x864 with 5 Axes>"
            ]
          },
          "metadata": {
            "tags": [],
            "needs_background": "light"
          }
        }
      ]
    },
    {
      "cell_type": "code",
      "metadata": {
        "id": "CuRVQm3GsUx5",
        "outputId": "8d9e7981-975f-45b7-972c-b82955fcbc82",
        "colab": {
          "base_uri": "https://localhost:8080/",
          "height": 386
        }
      },
      "source": [
        "#sns.distplot(X_Train['Age'],kde=False, label='Total')\n",
        "sns.distplot(df_Train['Age'][df_Train['Survived']==1],kde=False,label='Survived')\n",
        "sns.distplot(df_Train['Age'][df_Train['Survived']==0],kde=False,label='Not Survived')\n",
        "plt.legend()"
      ],
      "execution_count": 11,
      "outputs": [
        {
          "output_type": "stream",
          "text": [
            "/usr/local/lib/python3.6/dist-packages/seaborn/distributions.py:2551: FutureWarning: `distplot` is a deprecated function and will be removed in a future version. Please adapt your code to use either `displot` (a figure-level function with similar flexibility) or `histplot` (an axes-level function for histograms).\n",
            "  warnings.warn(msg, FutureWarning)\n",
            "/usr/local/lib/python3.6/dist-packages/seaborn/distributions.py:2551: FutureWarning: `distplot` is a deprecated function and will be removed in a future version. Please adapt your code to use either `displot` (a figure-level function with similar flexibility) or `histplot` (an axes-level function for histograms).\n",
            "  warnings.warn(msg, FutureWarning)\n"
          ],
          "name": "stderr"
        },
        {
          "output_type": "execute_result",
          "data": {
            "text/plain": [
              "<matplotlib.legend.Legend at 0x7f4533af4908>"
            ]
          },
          "metadata": {
            "tags": []
          },
          "execution_count": 11
        },
        {
          "output_type": "display_data",
          "data": {
            "image/png": "[encoded data removed]",
            "text/plain": [
              "<Figure size 432x288 with 1 Axes>"
            ]
          },
          "metadata": {
            "tags": [],
            "needs_background": "light"
          }
        }
      ]
    },
    {
      "cell_type": "code",
      "metadata": {
        "id": "pCE88MOJs0vr",
        "outputId": "ecbf6086-4f01-490c-da5d-7df144272e80",
        "colab": {
          "base_uri": "https://localhost:8080/",
          "height": 386
        }
      },
      "source": [
        "#sns.distplot(X_Train['Fare'],kde=False, label='Total')\n",
        "sns.distplot(df_Train['Fare'][df_Train['Survived']==1],kde=False,label='Survived')\n",
        "sns.distplot(df_Train['Fare'][df_Train['Survived']==0],kde=False,label='Not Survived')\n",
        "plt.legend()"
      ],
      "execution_count": 12,
      "outputs": [
        {
          "output_type": "stream",
          "text": [
            "/usr/local/lib/python3.6/dist-packages/seaborn/distributions.py:2551: FutureWarning: `distplot` is a deprecated function and will be removed in a future version. Please adapt your code to use either `displot` (a figure-level function with similar flexibility) or `histplot` (an axes-level function for histograms).\n",
            "  warnings.warn(msg, FutureWarning)\n",
            "/usr/local/lib/python3.6/dist-packages/seaborn/distributions.py:2551: FutureWarning: `distplot` is a deprecated function and will be removed in a future version. Please adapt your code to use either `displot` (a figure-level function with similar flexibility) or `histplot` (an axes-level function for histograms).\n",
            "  warnings.warn(msg, FutureWarning)\n"
          ],
          "name": "stderr"
        },
        {
          "output_type": "execute_result",
          "data": {
            "text/plain": [
              "<matplotlib.legend.Legend at 0x7f4532ba20f0>"
            ]
          },
          "metadata": {
            "tags": []
          },
          "execution_count": 12
        },
        {
          "output_type": "display_data",
          "data": {
            "image/png": "[encoded data removed]",
            "text/plain": [
              "<Figure size 432x288 with 1 Axes>"
            ]
          },
          "metadata": {
            "tags": [],
            "needs_background": "light"
          }
        }
      ]
    },
    {
      "cell_type": "markdown",
      "metadata": {
        "id": "rjgP0Wnas9eH"
      },
      "source": [
        "### Observations\n",
        "* The passengers in the training set were predominantly male ( almost twice as many as the number of females). However the chances of survival were much higher for female passengers. \n",
        "* The number of passengers travelling in 3rd class was much larger compared with the other two. However the probability of survival decreases with the passenger class with PC1 > PC2 > PC3. This might be expected.\n",
        "* Most of the passengers embarked at Southampton. For some reason the chance of survival is maximum for Cherbourg, followed by Queenstown and Southampton.\n",
        "* The number of passengers travelling alone outnumbers the others (i.e. those with children, parents of spouses). It is difficult to see direclty from the probabilities any correlation between SibSp and Parch. All we can say is that people who were travelling alone or with large families were less likely to survive. People who were accompanied by 1-2 spouse/siblings or 2-3 parents/children were more likely to survive.\n",
        "* Children were more likely to survive.\n",
        "* Fares has an extremmely skewed distribution. We need to either (a) plot it on a logithmic scale and see if it has a more uniform  distribution, or (b) divide it into suitable bins.\n",
        "\n"
      ]
    },
    {
      "cell_type": "markdown",
      "metadata": {
        "id": "Q8GZ3oOgw94Q"
      },
      "source": [
        "## Missing Values"
      ]
    },
    {
      "cell_type": "code",
      "metadata": {
        "id": "1QoXDbbF1UuA"
      },
      "source": [
        "df_combined = pd.concat([df_Train,df_Test])\n",
        "X_Train = df_Train.copy()\n",
        "X_Test = df_Test.copy()"
      ],
      "execution_count": 56,
      "outputs": []
    },
    {
      "cell_type": "code",
      "metadata": {
        "id": "MK_M4EpqxCoI",
        "outputId": "bc7476e2-fc7c-48f2-8bd9-83aa81289e13",
        "colab": {
          "base_uri": "https://localhost:8080/",
          "height": 503
        }
      },
      "source": [
        "print(\"Missing Values : Training Data\")\n",
        "print(df_Train.isnull().sum())\n",
        "print()\n",
        "print(\"Missing Values : Test Data\")\n",
        "print(df_Test.isnull().sum())"
      ],
      "execution_count": 57,
      "outputs": [
        {
          "output_type": "stream",
          "text": [
            "Missing Values : Training Data\n",
            "PassengerId      0\n",
            "Survived         0\n",
            "Pclass           0\n",
            "Name             0\n",
            "Sex              0\n",
            "Age            177\n",
            "SibSp            0\n",
            "Parch            0\n",
            "Ticket           0\n",
            "Fare             0\n",
            "Cabin          687\n",
            "Embarked         0\n",
            "dtype: int64\n",
            "\n",
            "Missing Values : Test Data\n",
            "PassengerId      0\n",
            "Pclass           0\n",
            "Name             0\n",
            "Sex              0\n",
            "Age             86\n",
            "SibSp            0\n",
            "Parch            0\n",
            "Ticket           0\n",
            "Fare             1\n",
            "Cabin          327\n",
            "Embarked         0\n",
            "dtype: int64\n"
          ],
          "name": "stdout"
        }
      ]
    },
    {
      "cell_type": "markdown",
      "metadata": {
        "id": "uw59JuZ3xnB2"
      },
      "source": [
        "### Cabin:\n",
        "\n",
        "The majority of the entries in the feature 'Cabin' is missing. So we might as well drop it. However it possible that the values were more likely to be available for those that survived the sinking. Conversely, the passenger with a cabin information is more likely to survive."
      ]
    },
    {
      "cell_type": "code",
      "metadata": {
        "id": "wLVGIpk1y1QX"
      },
      "source": [
        "X_Train[\"CabinBool\"] = (X_Train[\"Cabin\"].notnull().astype('int'))\n",
        "X_Test[\"CabinBool\"] = (X_Test[\"Cabin\"].notnull().astype('int'))"
      ],
      "execution_count": 58,
      "outputs": []
    },
    {
      "cell_type": "code",
      "metadata": {
        "id": "AI35xBFd16uA",
        "outputId": "cda97f37-7f1f-4d07-b7f2-652e5d80c16b",
        "colab": {
          "base_uri": "https://localhost:8080/",
          "height": 297
        }
      },
      "source": [
        "sns.barplot(x = X_Train['CabinBool'],y = X_Train['Survived'])"
      ],
      "execution_count": 59,
      "outputs": [
        {
          "output_type": "execute_result",
          "data": {
            "text/plain": [
              "<matplotlib.axes._subplots.AxesSubplot at 0x7f452ab16208>"
            ]
          },
          "metadata": {
            "tags": []
          },
          "execution_count": 59
        },
        {
          "output_type": "display_data",
          "data": {
            "image/png": "[encoded data removed]",
            "text/plain": [
              "<Figure size 432x288 with 1 Axes>"
            ]
          },
          "metadata": {
            "tags": [],
            "needs_background": "light"
          }
        }
      ]
    },
    {
      "cell_type": "markdown",
      "metadata": {
        "id": "NmTF91uM2KjZ"
      },
      "source": [
        "### Embarked:\n",
        "There are two missing values in the training set. We will fill up these values with the mode of the mode of the distribution i.e. with 'S'"
      ]
    },
    {
      "cell_type": "code",
      "metadata": {
        "id": "p-0hpHpt3abU"
      },
      "source": [
        "df_Train.fillna({'Embarked' : 'S'},inplace=True)"
      ],
      "execution_count": 60,
      "outputs": []
    },
    {
      "cell_type": "markdown",
      "metadata": {
        "id": "jIP_M04g3rmK"
      },
      "source": [
        "### Age:\n",
        "The training and test datasets have 177 and 86 missing values for Age, respectively. There are a large number of missing values, and they can be dealt with the following approaches:\n",
        "* Fill the missing values with a random distribution with mean and standard deviation of the training and test sets respectively. However, this can give rise to unphysical Age values < 0.\n",
        "* Fill the missing values with random integer values between [Mean - Std. Dev, Mean +  Std. Dev]. I will be using this approach as a first approximation.\n",
        "* A more elegant approach might be to infer the age of the passenger based on the title (i.e. Mr. Mrs. Master etc.) on the passenger's name."
      ]
    },
    {
      "cell_type": "code",
      "metadata": {
        "id": "po-Qn_Ip6s4G",
        "outputId": "958218b5-8bdd-45f2-b47b-dfed53be062b",
        "colab": {
          "base_uri": "https://localhost:8080/",
          "height": 191
        }
      },
      "source": [
        "Age_mean = df_combined['Age'].mean()\n",
        "Age_sigma  = df_combined['Age'].std()\n",
        "X_Train['Age'][X_Train['Age'].isnull()] = random.randint(Age_mean - Age_sigma, Age_mean + Age_sigma, int(X_Train['Age'].isnull().sum()))\n",
        "X_Test['Age'][X_Test['Age'].isnull()]   = random.randint(Age_mean - Age_sigma, Age_mean + Age_sigma, int(X_Test['Age'].isnull().sum()))"
      ],
      "execution_count": 61,
      "outputs": [
        {
          "output_type": "stream",
          "text": [
            "/usr/local/lib/python3.6/dist-packages/ipykernel_launcher.py:3: SettingWithCopyWarning: \n",
            "A value is trying to be set on a copy of a slice from a DataFrame\n",
            "\n",
            "See the caveats in the documentation: https://pandas.pydata.org/pandas-docs/stable/user_guide/indexing.html#returning-a-view-versus-a-copy\n",
            "  This is separate from the ipykernel package so we can avoid doing imports until\n",
            "/usr/local/lib/python3.6/dist-packages/ipykernel_launcher.py:4: SettingWithCopyWarning: \n",
            "A value is trying to be set on a copy of a slice from a DataFrame\n",
            "\n",
            "See the caveats in the documentation: https://pandas.pydata.org/pandas-docs/stable/user_guide/indexing.html#returning-a-view-versus-a-copy\n",
            "  after removing the cwd from sys.path.\n"
          ],
          "name": "stderr"
        }
      ]
    },
    {
      "cell_type": "code",
      "metadata": {
        "id": "AmvrpXNV-QDS",
        "outputId": "e5cf2d3e-eae0-412e-ea39-91e070c8fb0c",
        "colab": {
          "base_uri": "https://localhost:8080/",
          "height": 386
        }
      },
      "source": [
        "#sns.distplot(X_Train['Age'],kde=False, label='Total')\n",
        "sns.distplot(X_Train['Age'][X_Train['Survived']==1],kde=False,label='Survived')\n",
        "sns.distplot(X_Train['Age'][X_Train['Survived']==0],kde=False,label='Not Survived')\n",
        "plt.legend()"
      ],
      "execution_count": 62,
      "outputs": [
        {
          "output_type": "stream",
          "text": [
            "/usr/local/lib/python3.6/dist-packages/seaborn/distributions.py:2551: FutureWarning: `distplot` is a deprecated function and will be removed in a future version. Please adapt your code to use either `displot` (a figure-level function with similar flexibility) or `histplot` (an axes-level function for histograms).\n",
            "  warnings.warn(msg, FutureWarning)\n",
            "/usr/local/lib/python3.6/dist-packages/seaborn/distributions.py:2551: FutureWarning: `distplot` is a deprecated function and will be removed in a future version. Please adapt your code to use either `displot` (a figure-level function with similar flexibility) or `histplot` (an axes-level function for histograms).\n",
            "  warnings.warn(msg, FutureWarning)\n"
          ],
          "name": "stderr"
        },
        {
          "output_type": "execute_result",
          "data": {
            "text/plain": [
              "<matplotlib.legend.Legend at 0x7f452aad5978>"
            ]
          },
          "metadata": {
            "tags": []
          },
          "execution_count": 62
        },
        {
          "output_type": "display_data",
          "data": {
            "image/png": "[encoded data removed]",
            "text/plain": [
              "<Figure size 432x288 with 1 Axes>"
            ]
          },
          "metadata": {
            "tags": [],
            "needs_background": "light"
          }
        }
      ]
    },
    {
      "cell_type": "markdown",
      "metadata": {
        "id": "n66FsxhGgdE5"
      },
      "source": [
        "### Fare:\n",
        "The Test set has 1 missing fare value. We can set it to be the mean of the fares of the corresponding Pclass."
      ]
    },
    {
      "cell_type": "code",
      "metadata": {
        "id": "MvOfSIfVyo_k",
        "outputId": "3a4cc4c8-fe9f-477e-fae7-bf77a24e8b0e",
        "colab": {
          "base_uri": "https://localhost:8080/",
          "height": 79
        }
      },
      "source": [
        "df_Test[df_Test['Fare'].isnull()]"
      ],
      "execution_count": 63,
      "outputs": [
        {
          "output_type": "execute_result",
          "data": {
            "text/html": [
              "<div>\n",
              "<style scoped>\n",
              "    .dataframe tbody tr th:only-of-type {\n",
              "        vertical-align: middle;\n",
              "    }\n",
              "\n",
              "    .dataframe tbody tr th {\n",
              "        vertical-align: top;\n",
              "    }\n",
              "\n",
              "    .dataframe thead th {\n",
              "        text-align: right;\n",
              "    }\n",
              "</style>\n",
              "<table border=\"1\" class=\"dataframe\">\n",
              "  <thead>\n",
              "    <tr style=\"text-align: right;\">\n",
              "      <th></th>\n",
              "      <th>PassengerId</th>\n",
              "      <th>Pclass</th>\n",
              "      <th>Name</th>\n",
              "      <th>Sex</th>\n",
              "      <th>Age</th>\n",
              "      <th>SibSp</th>\n",
              "      <th>Parch</th>\n",
              "      <th>Ticket</th>\n",
              "      <th>Fare</th>\n",
              "      <th>Cabin</th>\n",
              "      <th>Embarked</th>\n",
              "    </tr>\n",
              "  </thead>\n",
              "  <tbody>\n",
              "    <tr>\n",
              "      <th>152</th>\n",
              "      <td>1044</td>\n",
              "      <td>3</td>\n",
              "      <td>Storey, Mr. Thomas</td>\n",
              "      <td>male</td>\n",
              "      <td>60.5</td>\n",
              "      <td>0</td>\n",
              "      <td>0</td>\n",
              "      <td>3701</td>\n",
              "      <td>NaN</td>\n",
              "      <td>NaN</td>\n",
              "      <td>S</td>\n",
              "    </tr>\n",
              "  </tbody>\n",
              "</table>\n",
              "</div>"
            ],
            "text/plain": [
              "     PassengerId  Pclass                Name   Sex  ...  Ticket  Fare  Cabin Embarked\n",
              "152         1044       3  Storey, Mr. Thomas  male  ...    3701   NaN    NaN        S\n",
              "\n",
              "[1 rows x 11 columns]"
            ]
          },
          "metadata": {
            "tags": []
          },
          "execution_count": 63
        }
      ]
    },
    {
      "cell_type": "code",
      "metadata": {
        "id": "ime2yjrJ2lWY"
      },
      "source": [
        "X_Test.loc[152, 'Fare'] = df_combined['Fare'][df_combined['Pclass']==3].mean()"
      ],
      "execution_count": 64,
      "outputs": []
    },
    {
      "cell_type": "markdown",
      "metadata": {
        "id": "oMpv68JHbBe2"
      },
      "source": [
        "## Data Cleaning\n",
        "In this section, we will go over the columns one by one and modify them as features if necessary."
      ]
    },
    {
      "cell_type": "code",
      "metadata": {
        "id": "9riiSvlzeF_W",
        "outputId": "a61ce49b-baa4-4a2b-8ccc-c2b8e8a00fdf",
        "colab": {
          "base_uri": "https://localhost:8080/",
          "height": 237
        }
      },
      "source": [
        "X_Train.head()"
      ],
      "execution_count": 65,
      "outputs": [
        {
          "output_type": "execute_result",
          "data": {
            "text/html": [
              "<div>\n",
              "<style scoped>\n",
              "    .dataframe tbody tr th:only-of-type {\n",
              "        vertical-align: middle;\n",
              "    }\n",
              "\n",
              "    .dataframe tbody tr th {\n",
              "        vertical-align: top;\n",
              "    }\n",
              "\n",
              "    .dataframe thead th {\n",
              "        text-align: right;\n",
              "    }\n",
              "</style>\n",
              "<table border=\"1\" class=\"dataframe\">\n",
              "  <thead>\n",
              "    <tr style=\"text-align: right;\">\n",
              "      <th></th>\n",
              "      <th>PassengerId</th>\n",
              "      <th>Survived</th>\n",
              "      <th>Pclass</th>\n",
              "      <th>Name</th>\n",
              "      <th>Sex</th>\n",
              "      <th>Age</th>\n",
              "      <th>SibSp</th>\n",
              "      <th>Parch</th>\n",
              "      <th>Ticket</th>\n",
              "      <th>Fare</th>\n",
              "      <th>Cabin</th>\n",
              "      <th>Embarked</th>\n",
              "      <th>CabinBool</th>\n",
              "    </tr>\n",
              "  </thead>\n",
              "  <tbody>\n",
              "    <tr>\n",
              "      <th>0</th>\n",
              "      <td>1</td>\n",
              "      <td>0</td>\n",
              "      <td>3</td>\n",
              "      <td>Braund, Mr. Owen Harris</td>\n",
              "      <td>male</td>\n",
              "      <td>22.0</td>\n",
              "      <td>1</td>\n",
              "      <td>0</td>\n",
              "      <td>A/5 21171</td>\n",
              "      <td>7.2500</td>\n",
              "      <td>NaN</td>\n",
              "      <td>S</td>\n",
              "      <td>0</td>\n",
              "    </tr>\n",
              "    <tr>\n",
              "      <th>1</th>\n",
              "      <td>2</td>\n",
              "      <td>1</td>\n",
              "      <td>1</td>\n",
              "      <td>Cumings, Mrs. John Bradley (Florence Briggs Th...</td>\n",
              "      <td>female</td>\n",
              "      <td>38.0</td>\n",
              "      <td>1</td>\n",
              "      <td>0</td>\n",
              "      <td>PC 17599</td>\n",
              "      <td>71.2833</td>\n",
              "      <td>C85</td>\n",
              "      <td>C</td>\n",
              "      <td>1</td>\n",
              "    </tr>\n",
              "    <tr>\n",
              "      <th>2</th>\n",
              "      <td>3</td>\n",
              "      <td>1</td>\n",
              "      <td>3</td>\n",
              "      <td>Heikkinen, Miss. Laina</td>\n",
              "      <td>female</td>\n",
              "      <td>26.0</td>\n",
              "      <td>0</td>\n",
              "      <td>0</td>\n",
              "      <td>STON/O2. 3101282</td>\n",
              "      <td>7.9250</td>\n",
              "      <td>NaN</td>\n",
              "      <td>S</td>\n",
              "      <td>0</td>\n",
              "    </tr>\n",
              "    <tr>\n",
              "      <th>3</th>\n",
              "      <td>4</td>\n",
              "      <td>1</td>\n",
              "      <td>1</td>\n",
              "      <td>Futrelle, Mrs. Jacques Heath (Lily May Peel)</td>\n",
              "      <td>female</td>\n",
              "      <td>35.0</td>\n",
              "      <td>1</td>\n",
              "      <td>0</td>\n",
              "      <td>113803</td>\n",
              "      <td>53.1000</td>\n",
              "      <td>C123</td>\n",
              "      <td>S</td>\n",
              "      <td>1</td>\n",
              "    </tr>\n",
              "    <tr>\n",
              "      <th>4</th>\n",
              "      <td>5</td>\n",
              "      <td>0</td>\n",
              "      <td>3</td>\n",
              "      <td>Allen, Mr. William Henry</td>\n",
              "      <td>male</td>\n",
              "      <td>35.0</td>\n",
              "      <td>0</td>\n",
              "      <td>0</td>\n",
              "      <td>373450</td>\n",
              "      <td>8.0500</td>\n",
              "      <td>NaN</td>\n",
              "      <td>S</td>\n",
              "      <td>0</td>\n",
              "    </tr>\n",
              "  </tbody>\n",
              "</table>\n",
              "</div>"
            ],
            "text/plain": [
              "   PassengerId  Survived  Pclass  ... Cabin Embarked  CabinBool\n",
              "0            1         0       3  ...   NaN        S          0\n",
              "1            2         1       1  ...   C85        C          1\n",
              "2            3         1       3  ...   NaN        S          0\n",
              "3            4         1       1  ...  C123        S          1\n",
              "4            5         0       3  ...   NaN        S          0\n",
              "\n",
              "[5 rows x 13 columns]"
            ]
          },
          "metadata": {
            "tags": []
          },
          "execution_count": 65
        }
      ]
    },
    {
      "cell_type": "markdown",
      "metadata": {
        "id": "9zVYFxOmeShn"
      },
      "source": [
        "### PassengerId :\n",
        "Drop this column as survival is unlikely to depend on these values."
      ]
    },
    {
      "cell_type": "code",
      "metadata": {
        "id": "0uUKeDgxFHLU"
      },
      "source": [
        "X_Train.drop(columns='PassengerId',inplace=True)\n",
        "X_Test.drop(columns='PassengerId',inplace=True)"
      ],
      "execution_count": 66,
      "outputs": []
    },
    {
      "cell_type": "markdown",
      "metadata": {
        "id": "1o5xPVfrGShT"
      },
      "source": [
        "### Pclass :\n",
        "This column can be directly used as a feature vector.\n",
        "\n",
        "### Name :\n",
        "As a first approximation, let us drop this column. A more detailed approach might be to extract a feature depending on the title on the passenger name. However this is likely to have a correspondence with the Age of the passengers."
      ]
    },
    {
      "cell_type": "code",
      "metadata": {
        "id": "J_toGIOQHgIS"
      },
      "source": [
        "X_Train.drop(columns='Name',inplace=True)\n",
        "X_Test.drop(columns='Name',inplace=True)"
      ],
      "execution_count": 67,
      "outputs": []
    },
    {
      "cell_type": "markdown",
      "metadata": {
        "id": "5xRnAqlxHnKF"
      },
      "source": [
        "### Sex :\n",
        "We can map this column to numerical values such that male : 0 and female : 1."
      ]
    },
    {
      "cell_type": "code",
      "metadata": {
        "id": "u4AmNK9yH0L9"
      },
      "source": [
        "sex_mapping = {'male': 0, 'female': 1}\n",
        "X_Train['Sex'] = df_Train['Sex'].map(sex_mapping)\n",
        "X_Test['Sex'] = df_Test['Sex'].map(sex_mapping)"
      ],
      "execution_count": 68,
      "outputs": []
    },
    {
      "cell_type": "markdown",
      "metadata": {
        "id": "MPjCouXgIEnN"
      },
      "source": [
        "### Ticket :\n",
        "Drop this column as it is unlikely to yield any useful information."
      ]
    },
    {
      "cell_type": "code",
      "metadata": {
        "id": "cT2LVIz0IIHZ"
      },
      "source": [
        "X_Train.drop(columns='Ticket',inplace=True)\n",
        "X_Test.drop(columns='Ticket',inplace=True)"
      ],
      "execution_count": 69,
      "outputs": []
    },
    {
      "cell_type": "markdown",
      "metadata": {
        "id": "0gFPTMxxMtMf"
      },
      "source": [
        "### Cabin :\n",
        "Drop this column as it contains a large number of missing values. Any useful information has been saved in the column CabinBool."
      ]
    },
    {
      "cell_type": "code",
      "metadata": {
        "id": "9CA2NYERM5ho"
      },
      "source": [
        "X_Train.drop(columns='Cabin',inplace=True)\n",
        "X_Test.drop(columns='Cabin',inplace=True)"
      ],
      "execution_count": 70,
      "outputs": []
    },
    {
      "cell_type": "markdown",
      "metadata": {
        "id": "XhH-SEqwM-SN"
      },
      "source": [
        "### Embarked :\n",
        "Map the 'Embarked' column into numerical feature vector such that S : 0, Q : 1 and C : 2.\n",
        "Alternatively one can perform a onehot coding of the three labels for better results (maybe)."
      ]
    },
    {
      "cell_type": "code",
      "metadata": {
        "id": "AiNvnyrlOc_1"
      },
      "source": [
        "embarked_mapping = {'S' : 0, 'Q' : 1, 'C' : 2}\n",
        "X_Train['Embarked'] = df_Train['Embarked'].map(embarked_mapping)\n",
        "X_Test['Embarked']  = df_Test['Embarked'].map(embarked_mapping)"
      ],
      "execution_count": 71,
      "outputs": []
    },
    {
      "cell_type": "markdown",
      "metadata": {
        "id": "PL4dJZgyOzzw"
      },
      "source": [
        "### SibSp and Parch :\n",
        "Since both these columns have information regarding the family sizes and co-passengers, we can combine both of them to create a new feature called 'Family_Size' = No. of Parents/Children + No. of Siblings/Spouses + 1 (the passenger himself/herself). Plot and see how survival probability depends on this feature."
      ]
    },
    {
      "cell_type": "code",
      "metadata": {
        "id": "MEVpJxvgQLHL",
        "outputId": "767d73e4-ba89-4a7f-c76c-872a03fd0c7a",
        "colab": {
          "base_uri": "https://localhost:8080/",
          "height": 297
        }
      },
      "source": [
        "X_Train['Family_Size'] = X_Train['SibSp'] + X_Train['Parch'] + 1\n",
        "sns.barplot(x = X_Train['Family_Size'],y = X_Train['Survived'])"
      ],
      "execution_count": 72,
      "outputs": [
        {
          "output_type": "execute_result",
          "data": {
            "text/plain": [
              "<matplotlib.axes._subplots.AxesSubplot at 0x7f452a9a02b0>"
            ]
          },
          "metadata": {
            "tags": []
          },
          "execution_count": 72
        },
        {
          "output_type": "display_data",
          "data": {
            "image/png": "[encoded data removed]",
            "text/plain": [
              "<Figure size 432x288 with 1 Axes>"
            ]
          },
          "metadata": {
            "tags": [],
            "needs_background": "light"
          }
        }
      ]
    },
    {
      "cell_type": "markdown",
      "metadata": {
        "id": "pXpT1DtsSbjp"
      },
      "source": [
        "Family sizes with No. of Members = 2,3, and 4 are more likely to survive (probability ~ 60-70%) wheras persons travellig alone (Family size = 1) or with a large family (Family size >= 5) have a low survival probability (~15-25%). We can create a feature vector 'Small_Family' and set it to 1 for Family Sizes 2,3, and 4. Use this feature vector and drop 'SibSp', 'Parch' and 'Family_Size'"
      ]
    },
    {
      "cell_type": "code",
      "metadata": {
        "id": "IjmKEy6gQrQd"
      },
      "source": [
        "X_Train['Small_Family'] = 0\n",
        "X_Train.loc[(X_Train['Family_Size'] > 1) & (X_Train['Family_Size'] < 5) , 'Small_Family'] = 1\n",
        "X_Train.drop(columns = ['SibSp','Parch','Family_Size'], inplace = True)"
      ],
      "execution_count": 73,
      "outputs": []
    },
    {
      "cell_type": "markdown",
      "metadata": {
        "id": "VkzZbxocCZXU"
      },
      "source": [
        "Do the same for the Test Dataset."
      ]
    },
    {
      "cell_type": "code",
      "metadata": {
        "id": "_PwPpA6zChCg"
      },
      "source": [
        "X_Test['Family_Size'] = X_Test['SibSp'] + X_Test['Parch'] + 1\n",
        "X_Test['Small_Family'] = 0\n",
        "X_Test.loc[(X_Test['Family_Size'] > 1) & (X_Test['Family_Size'] < 5) , 'Small_Family'] = 1\n",
        "X_Test.drop(columns = ['SibSp','Parch','Family_Size'], inplace = True)"
      ],
      "execution_count": 74,
      "outputs": []
    },
    {
      "cell_type": "markdown",
      "metadata": {
        "id": "e5F7Cd-Lqy7l"
      },
      "source": [
        "### Fare :\n",
        "We will be dividing the column 'Fare' into 4 quantiles with labels : 1,2,3,4. This will be saved as a new feature 'Fare_band'. Subsequently drop the 'Fare' column."
      ]
    },
    {
      "cell_type": "code",
      "metadata": {
        "id": "3sODwYzk_3MZ",
        "outputId": "bcba2450-8a77-466c-f00e-b4432eee44bf",
        "colab": {
          "base_uri": "https://localhost:8080/",
          "height": 297
        }
      },
      "source": [
        "X_Train['Fare_band'] = pd.qcut(X_Train['Fare'],q=4,labels=[1,2,3,4])\n",
        "X_Test['Fare_band']  = pd.qcut(X_Test['Fare'],q=4,labels=[1,2,3,4])\n",
        "X_Train.drop(columns ='Fare', inplace = True)\n",
        "X_Test.drop(columns = 'Fare', inplace = True)\n",
        "sns.barplot(x = X_Train['Fare_band'] ,y = X_Train['Survived'])"
      ],
      "execution_count": 75,
      "outputs": [
        {
          "output_type": "execute_result",
          "data": {
            "text/plain": [
              "<matplotlib.axes._subplots.AxesSubplot at 0x7f452a931f98>"
            ]
          },
          "metadata": {
            "tags": []
          },
          "execution_count": 75
        },
        {
          "output_type": "display_data",
          "data": {
            "image/png": "[encoded data removed]",
            "text/plain": [
              "<Figure size 432x288 with 1 Axes>"
            ]
          },
          "metadata": {
            "tags": [],
            "needs_background": "light"
          }
        }
      ]
    },
    {
      "cell_type": "markdown",
      "metadata": {
        "id": "wYVONr_eA0tb"
      },
      "source": [
        "### Age :\n",
        "We can either leave the column 'Age' as it is and use it as a feature vector. In this case it might be better to shift and rescale the values using the mean and standard deviation.\n",
        "An alternate approach would be to band different age groups into a number of bins (5 or 6) and label the passenger age depending on the age group into which it falls."
      ]
    },
    {
      "cell_type": "code",
      "metadata": {
        "id": "vPs9oN0NBWJn",
        "outputId": "e544e751-6c51-453e-b731-26557d52340e",
        "colab": {
          "base_uri": "https://localhost:8080/",
          "height": 202
        }
      },
      "source": [
        "X_Train['AgeBand'] = pd.cut(X_Train['Age'], 5)\n",
        "X_Train[['AgeBand', 'Survived']].groupby(['AgeBand'], as_index=False).mean().sort_values(by='AgeBand', ascending=True)"
      ],
      "execution_count": 79,
      "outputs": [
        {
          "output_type": "execute_result",
          "data": {
            "text/html": [
              "<div>\n",
              "<style scoped>\n",
              "    .dataframe tbody tr th:only-of-type {\n",
              "        vertical-align: middle;\n",
              "    }\n",
              "\n",
              "    .dataframe tbody tr th {\n",
              "        vertical-align: top;\n",
              "    }\n",
              "\n",
              "    .dataframe thead th {\n",
              "        text-align: right;\n",
              "    }\n",
              "</style>\n",
              "<table border=\"1\" class=\"dataframe\">\n",
              "  <thead>\n",
              "    <tr style=\"text-align: right;\">\n",
              "      <th></th>\n",
              "      <th>AgeBand</th>\n",
              "      <th>Survived</th>\n",
              "    </tr>\n",
              "  </thead>\n",
              "  <tbody>\n",
              "    <tr>\n",
              "      <th>0</th>\n",
              "      <td>(0.34, 16.336]</td>\n",
              "      <td>0.531532</td>\n",
              "    </tr>\n",
              "    <tr>\n",
              "      <th>1</th>\n",
              "      <td>(16.336, 32.252]</td>\n",
              "      <td>0.353712</td>\n",
              "    </tr>\n",
              "    <tr>\n",
              "      <th>2</th>\n",
              "      <td>(32.252, 48.168]</td>\n",
              "      <td>0.371901</td>\n",
              "    </tr>\n",
              "    <tr>\n",
              "      <th>3</th>\n",
              "      <td>(48.168, 64.084]</td>\n",
              "      <td>0.434783</td>\n",
              "    </tr>\n",
              "    <tr>\n",
              "      <th>4</th>\n",
              "      <td>(64.084, 80.0]</td>\n",
              "      <td>0.090909</td>\n",
              "    </tr>\n",
              "  </tbody>\n",
              "</table>\n",
              "</div>"
            ],
            "text/plain": [
              "            AgeBand  Survived\n",
              "0    (0.34, 16.336]  0.531532\n",
              "1  (16.336, 32.252]  0.353712\n",
              "2  (32.252, 48.168]  0.371901\n",
              "3  (48.168, 64.084]  0.434783\n",
              "4    (64.084, 80.0]  0.090909"
            ]
          },
          "metadata": {
            "tags": []
          },
          "execution_count": 79
        }
      ]
    },
    {
      "cell_type": "code",
      "metadata": {
        "id": "-eDguIm7RPM_"
      },
      "source": [
        "Age_bins = [0,16,32,48,64,80]\n",
        "X_Train['AgeBand'] = pd.cut(X_Train['Age'], bins = Age_bins, labels = [0,1,2,3,4])\n",
        "X_Test['AgeBand']  = pd.cut(X_Test['Age'], bins = Age_bins, labels = [0,1,2,3,4])"
      ],
      "execution_count": 82,
      "outputs": []
    },
    {
      "cell_type": "code",
      "metadata": {
        "id": "PK-GA9yzJrty"
      },
      "source": [
        "X_Train.drop(columns = 'Age', inplace = True)\n",
        "X_Test.drop(columns = 'Age', inplace = True)  "
      ],
      "execution_count": 84,
      "outputs": []
    },
    {
      "cell_type": "code",
      "metadata": {
        "id": "sqUPi7sGT9x0",
        "outputId": "1db5b286-715a-4542-a3b5-bc3ac26e2ea4",
        "colab": {
          "base_uri": "https://localhost:8080/",
          "height": 202
        }
      },
      "source": [
        "X_Train.head()"
      ],
      "execution_count": 85,
      "outputs": [
        {
          "output_type": "execute_result",
          "data": {
            "text/html": [
              "<div>\n",
              "<style scoped>\n",
              "    .dataframe tbody tr th:only-of-type {\n",
              "        vertical-align: middle;\n",
              "    }\n",
              "\n",
              "    .dataframe tbody tr th {\n",
              "        vertical-align: top;\n",
              "    }\n",
              "\n",
              "    .dataframe thead th {\n",
              "        text-align: right;\n",
              "    }\n",
              "</style>\n",
              "<table border=\"1\" class=\"dataframe\">\n",
              "  <thead>\n",
              "    <tr style=\"text-align: right;\">\n",
              "      <th></th>\n",
              "      <th>Survived</th>\n",
              "      <th>Pclass</th>\n",
              "      <th>Sex</th>\n",
              "      <th>Embarked</th>\n",
              "      <th>CabinBool</th>\n",
              "      <th>Small_Family</th>\n",
              "      <th>Fare_band</th>\n",
              "      <th>AgeBand</th>\n",
              "    </tr>\n",
              "  </thead>\n",
              "  <tbody>\n",
              "    <tr>\n",
              "      <th>0</th>\n",
              "      <td>0</td>\n",
              "      <td>3</td>\n",
              "      <td>0</td>\n",
              "      <td>0</td>\n",
              "      <td>0</td>\n",
              "      <td>1</td>\n",
              "      <td>1</td>\n",
              "      <td>1</td>\n",
              "    </tr>\n",
              "    <tr>\n",
              "      <th>1</th>\n",
              "      <td>1</td>\n",
              "      <td>1</td>\n",
              "      <td>1</td>\n",
              "      <td>2</td>\n",
              "      <td>1</td>\n",
              "      <td>1</td>\n",
              "      <td>4</td>\n",
              "      <td>2</td>\n",
              "    </tr>\n",
              "    <tr>\n",
              "      <th>2</th>\n",
              "      <td>1</td>\n",
              "      <td>3</td>\n",
              "      <td>1</td>\n",
              "      <td>0</td>\n",
              "      <td>0</td>\n",
              "      <td>0</td>\n",
              "      <td>2</td>\n",
              "      <td>1</td>\n",
              "    </tr>\n",
              "    <tr>\n",
              "      <th>3</th>\n",
              "      <td>1</td>\n",
              "      <td>1</td>\n",
              "      <td>1</td>\n",
              "      <td>0</td>\n",
              "      <td>1</td>\n",
              "      <td>1</td>\n",
              "      <td>4</td>\n",
              "      <td>2</td>\n",
              "    </tr>\n",
              "    <tr>\n",
              "      <th>4</th>\n",
              "      <td>0</td>\n",
              "      <td>3</td>\n",
              "      <td>0</td>\n",
              "      <td>0</td>\n",
              "      <td>0</td>\n",
              "      <td>0</td>\n",
              "      <td>2</td>\n",
              "      <td>2</td>\n",
              "    </tr>\n",
              "  </tbody>\n",
              "</table>\n",
              "</div>"
            ],
            "text/plain": [
              "   Survived  Pclass  Sex  Embarked  CabinBool  Small_Family Fare_band AgeBand\n",
              "0         0       3    0         0          0             1         1       1\n",
              "1         1       1    1         2          1             1         4       2\n",
              "2         1       3    1         0          0             0         2       1\n",
              "3         1       1    1         0          1             1         4       2\n",
              "4         0       3    0         0          0             0         2       2"
            ]
          },
          "metadata": {
            "tags": []
          },
          "execution_count": 85
        }
      ]
    },
    {
      "cell_type": "code",
      "metadata": {
        "id": "oiBDzaw5ZopZ",
        "outputId": "5d639492-932a-4e46-fb27-00ca905231e2",
        "colab": {
          "base_uri": "https://localhost:8080/",
          "height": 202
        }
      },
      "source": [
        "X_Test.head()"
      ],
      "execution_count": 86,
      "outputs": [
        {
          "output_type": "execute_result",
          "data": {
            "text/html": [
              "<div>\n",
              "<style scoped>\n",
              "    .dataframe tbody tr th:only-of-type {\n",
              "        vertical-align: middle;\n",
              "    }\n",
              "\n",
              "    .dataframe tbody tr th {\n",
              "        vertical-align: top;\n",
              "    }\n",
              "\n",
              "    .dataframe thead th {\n",
              "        text-align: right;\n",
              "    }\n",
              "</style>\n",
              "<table border=\"1\" class=\"dataframe\">\n",
              "  <thead>\n",
              "    <tr style=\"text-align: right;\">\n",
              "      <th></th>\n",
              "      <th>Pclass</th>\n",
              "      <th>Sex</th>\n",
              "      <th>Embarked</th>\n",
              "      <th>CabinBool</th>\n",
              "      <th>Small_Family</th>\n",
              "      <th>Fare_band</th>\n",
              "      <th>AgeBand</th>\n",
              "    </tr>\n",
              "  </thead>\n",
              "  <tbody>\n",
              "    <tr>\n",
              "      <th>0</th>\n",
              "      <td>3</td>\n",
              "      <td>0</td>\n",
              "      <td>1</td>\n",
              "      <td>0</td>\n",
              "      <td>0</td>\n",
              "      <td>1</td>\n",
              "      <td>2</td>\n",
              "    </tr>\n",
              "    <tr>\n",
              "      <th>1</th>\n",
              "      <td>3</td>\n",
              "      <td>1</td>\n",
              "      <td>0</td>\n",
              "      <td>0</td>\n",
              "      <td>1</td>\n",
              "      <td>1</td>\n",
              "      <td>2</td>\n",
              "    </tr>\n",
              "    <tr>\n",
              "      <th>2</th>\n",
              "      <td>2</td>\n",
              "      <td>0</td>\n",
              "      <td>1</td>\n",
              "      <td>0</td>\n",
              "      <td>0</td>\n",
              "      <td>2</td>\n",
              "      <td>3</td>\n",
              "    </tr>\n",
              "    <tr>\n",
              "      <th>3</th>\n",
              "      <td>3</td>\n",
              "      <td>0</td>\n",
              "      <td>0</td>\n",
              "      <td>0</td>\n",
              "      <td>0</td>\n",
              "      <td>2</td>\n",
              "      <td>1</td>\n",
              "    </tr>\n",
              "    <tr>\n",
              "      <th>4</th>\n",
              "      <td>3</td>\n",
              "      <td>1</td>\n",
              "      <td>0</td>\n",
              "      <td>0</td>\n",
              "      <td>1</td>\n",
              "      <td>2</td>\n",
              "      <td>1</td>\n",
              "    </tr>\n",
              "  </tbody>\n",
              "</table>\n",
              "</div>"
            ],
            "text/plain": [
              "   Pclass  Sex  Embarked  CabinBool  Small_Family Fare_band AgeBand\n",
              "0       3    0         1          0             0         1       2\n",
              "1       3    1         0          0             1         1       2\n",
              "2       2    0         1          0             0         2       3\n",
              "3       3    0         0          0             0         2       1\n",
              "4       3    1         0          0             1         2       1"
            ]
          },
          "metadata": {
            "tags": []
          },
          "execution_count": 86
        }
      ]
    },
    {
      "cell_type": "markdown",
      "metadata": {
        "id": "Cq94tcTrZqi0"
      },
      "source": [
        "Finally prepare for model fitting. Copy the column 'Survived' into Y_Train and delete the column from the training set."
      ]
    },
    {
      "cell_type": "code",
      "metadata": {
        "id": "ZgwsVg6iaBHL"
      },
      "source": [
        "Y_Train = X_Train['Survived']\n",
        "X_Train.drop(columns = 'Survived', inplace = True)"
      ],
      "execution_count": 88,
      "outputs": []
    },
    {
      "cell_type": "markdown",
      "metadata": {
        "id": "cSbLRvFOaQrZ"
      },
      "source": [
        "## Model Fitting\n",
        "The problem is a classification problem. I would be using the following classifiers and compare the results.\n",
        "* Logistic Regression\n",
        "* Decision Tree Classifier\n",
        "* Random Forest Classifier\n",
        "* Stochastic Gradient Descent\n"
      ]
    },
    {
      "cell_type": "code",
      "metadata": {
        "id": "deBc8HzsaTEO",
        "outputId": "9e62e4e4-88ba-4247-f1e2-2b5efea6c371",
        "colab": {
          "base_uri": "https://localhost:8080/",
          "height": 35
        }
      },
      "source": [
        "# Logistic Regression\n",
        "from sklearn.linear_model import LogisticRegression\n",
        "\n",
        "logreg = LogisticRegression()\n",
        "logreg.fit(X_Train, Y_Train)\n",
        "Y_Pred_logreg = logreg.predict(X_Test)\n",
        "acc_logreg = round(logreg.score(X_Train, Y_Train) * 100, 2)\n",
        "print(acc_logreg)"
      ],
      "execution_count": 102,
      "outputs": [
        {
          "output_type": "stream",
          "text": [
            "80.36\n"
          ],
          "name": "stdout"
        }
      ]
    },
    {
      "cell_type": "code",
      "metadata": {
        "id": "IKNr_AWPdINm",
        "outputId": "fceb2991-39c2-4632-be82-c2534de2003d",
        "colab": {
          "base_uri": "https://localhost:8080/",
          "height": 35
        }
      },
      "source": [
        "# Decision Tree Classifier\n",
        "from sklearn.tree import DecisionTreeClassifier\n",
        "\n",
        "dectree = DecisionTreeClassifier()\n",
        "dectree.fit(X_Train, Y_Train)\n",
        "Y_Pred_dectree = dectree.predict(X_Test)\n",
        "acc_dectree = round(dectree.score(X_Train, Y_Train) * 100, 2)\n",
        "print(acc_dectree)"
      ],
      "execution_count": 121,
      "outputs": [
        {
          "output_type": "stream",
          "text": [
            "87.09\n"
          ],
          "name": "stdout"
        }
      ]
    },
    {
      "cell_type": "code",
      "metadata": {
        "id": "j1ynmw-1dL6m",
        "outputId": "e7a12aca-57f9-4097-d34c-a7a7cc5a29fc",
        "colab": {
          "base_uri": "https://localhost:8080/",
          "height": 35
        }
      },
      "source": [
        "# Random Forest Classifier\n",
        "from sklearn.ensemble import RandomForestClassifier \n",
        "\n",
        "ranfor = RandomForestClassifier()\n",
        "ranfor.fit(X_Train, Y_Train)\n",
        "Y_Pred_ranfor = ranfor.predict(X_Test)\n",
        "acc_ranfor = round(ranfor.score(X_Train, Y_Train) * 100, 2)\n",
        "print(acc_ranfor)"
      ],
      "execution_count": 122,
      "outputs": [
        {
          "output_type": "stream",
          "text": [
            "87.09\n"
          ],
          "name": "stdout"
        }
      ]
    },
    {
      "cell_type": "code",
      "metadata": {
        "id": "MKc94EdSfxQm",
        "outputId": "ecf4d53e-ecb9-4c4a-9e72-cd68336685b4",
        "colab": {
          "base_uri": "https://localhost:8080/",
          "height": 35
        }
      },
      "source": [
        "# Stochastic Gradient Descent\n",
        "from sklearn.linear_model import SGDClassifier\n",
        "\n",
        "sgd = SGDClassifier()\n",
        "sgd.fit(X_Train,Y_Train)\n",
        "Y_Pred_sgd = sgd.predict(X_Test)\n",
        "acc_sgd = round(sgd.score(X_Train,Y_Train) * 100, 2)\n",
        "print(acc_sgd)"
      ],
      "execution_count": 131,
      "outputs": [
        {
          "output_type": "stream",
          "text": [
            "80.02\n"
          ],
          "name": "stdout"
        }
      ]
    },
    {
      "cell_type": "markdown",
      "metadata": {
        "id": "DY1dIL5ZgxOc"
      },
      "source": [
        "Both Random Forest Classifier and Decision Tree Classifier have better accuracies compared to the other methods."
      ]
    },
    {
      "cell_type": "markdown",
      "metadata": {
        "id": "IZ061OGyh8lJ"
      },
      "source": [
        "## Preparing submission File\n",
        "I would be using the results obtained from the RandomForestClassifier to submit to Kaggle."
      ]
    },
    {
      "cell_type": "code",
      "metadata": {
        "id": "D3UetF1FiLE9"
      },
      "source": [
        "submission = pd.DataFrame({\"PassengerId\": df_Test[\"PassengerId\"], \"Survived\": Y_Pred_ranfor })\n",
        "submission.to_csv('Titanic.csv', index=False)"
      ],
      "execution_count": 132,
      "outputs": []
    },
    {
      "cell_type": "markdown",
      "metadata": {
        "id": "k4gqlaZpjCQ3"
      },
      "source": [
        "I would like to acknowledge the help from the following Kaggle notebooks.\n",
        "* https://www.kaggle.com/nadintamer/titanic-survival-predictions-beginner\n",
        "* https://www.kaggle.com/startupsci/titanic-data-science-solutions"
      ]
    }
  ]
}